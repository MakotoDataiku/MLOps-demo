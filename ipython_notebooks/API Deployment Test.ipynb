{
 "cells": [
  {
   "cell_type": "code",
   "execution_count": 0,
   "metadata": {},
   "outputs": [],
   "source": [
    "%pylab inline"
   ]
  },
  {
   "cell_type": "code",
   "execution_count": 0,
   "metadata": {},
   "outputs": [],
   "source": [
    "import dataikuapi\n",
    "\n",
    "client = dataikuapi.APINodeClient(\"https://dsproj2-api.dataiku.com/\", \"customerrevenue\")\n",
    "\n",
    "record_to_predict = {\n",
    "    \"ip_country\": \"Nepal\",\n",
    "    \"pages_visited\": 8,\n",
    "    \"campaign\": False,\n",
    "    \"price_first_item_purchased\": 42,\n",
    "    \"gender\": \"M\",\n",
    "    \"revenue\": \"112\"\n",
    "}\n",
    "prediction = client.predict_record(\"forecast\", record_to_predict)\n",
    "\n",
    "print(prediction)\n",
    "print(\"\\n\")\n",
    "print(\"So for this customer, model predicts \" + str(prediction[\"result\"][\"prediction\"]) + \" with probability \" + str(prediction[\"result\"][\"probas\"][prediction[\"result\"][\"prediction\"]]) + \".\")\n",
    "print(\"Prediction used model version \" + str(prediction[\"apiContext\"][\"serviceGeneration\"]) + \" and took \" + str(sum(prediction[\"timing\"].values())) + \"ms to respond.\")"
   ]
  },
  {
   "cell_type": "code",
   "execution_count": 0,
   "metadata": {},
   "outputs": [],
   "source": []
  }
 ],
 "metadata": {
  "creator": "admin",
  "customFields": {},
  "kernelspec": {
   "display_name": "Python 2",
   "language": "python",
   "name": "python2"
  },
  "language_info": {
   "codemirror_mode": {
    "name": "ipython",
    "version": 2
   },
   "file_extension": ".py",
   "mimetype": "text/x-python",
   "name": "python",
   "nbconvert_exporter": "python",
   "pygments_lexer": "ipython2",
   "version": "2.7.16"
  },
  "tags": []
 },
 "nbformat": 4,
 "nbformat_minor": 1
}
