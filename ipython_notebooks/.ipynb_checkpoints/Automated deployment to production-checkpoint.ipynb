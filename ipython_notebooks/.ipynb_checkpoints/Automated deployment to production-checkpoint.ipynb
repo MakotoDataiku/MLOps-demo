{
  "metadata": {
    "kernelspec": {
      "display_name": "Python 2",
      "name": "python2",
      "language": "python"
    },
    "language_info": {
      "mimetype": "text/x-python",
      "nbconvert_exporter": "python",
      "version": "2.7.16",
      "name": "python",
      "pygments_lexer": "ipython2",
      "file_extension": ".py",
      "codemirror_mode": {
        "version": 2,
        "name": "ipython"
      }
    },
    "creator": "dataiku",
    "modifiedBy": "admin",
    "customFields": {},
    "hide_input": false,
    "tags": []
  },
  "nbformat": 4,
  "nbformat_minor": 1,
  "cells": [
    {
      "execution_count": 0,
      "cell_type": "code",
      "metadata": {},
      "source": [
        "import dataiku\nfrom dataiku import pandasutils as pdu\nimport pandas as pd\nimport dataikuapi\n\n# Settings for design host\ndesign_host \u003d \"http://localhost:19300\"\ndesign_api_key \u003d \"uYSTgnPHJS3o5gjPGGIost9dnqqgqY5R\" #replace with your PERSONAL api key\n\ndesign_client \u003d dataikuapi.DSSClient(design_host, api_key\u003ddesign_api_key)\nproj_key \u003d \"WN_MLOps_initial\"\nproject \u003d design_client.get_project(proj_key)"
      ],
      "outputs": []
    },
    {
      "cell_type": "markdown",
      "metadata": {},
      "source": [
        "Uncomment the cell below if your connections between design and automation do not have the same name"
      ]
    },
    {
      "execution_count": 0,
      "cell_type": "code",
      "metadata": {},
      "source": [
        "######################################################\n################ Connection remapping ################\n######################################################\n\n# remapping \u003d [{\n        \n#             \"source\": \"PostgreSQL_test\",\n#             \"target\": \"PostgreSQL_automation\"\n#         }\n# ]\n\n# Check if all connections used are present in the mapping\n# datasets \u003d project.list_datasets()\n# connection_to_map \u003d []\n# for dataset in datasets:\n#     connection \u003d dataset[\u0027params\u0027][\u0027connection\u0027]\n#     connection_to_map.append(connection)\n    \n# connection_to_map \u003d list(set(connection_to_map))\n\n# for connection in connection_to_map:\n#     remapped \u003d False\n#     for remapping_connection in remapping:\n#         if connection \u003d\u003d remapping_connection[\u0027source\u0027]:\n#             remapped \u003d True\n#     if not remapped:\n#          print(\"Connection {} is missing in automation node. You need to add it in the remapping list\".format(connection))\n\n# # Remapping is done at the infra level (could have been done at the deployment level)\n# infra_settings \u003d design_client.get_projectdeployer().get_infra(\"automation\").get_settings()\n# infra_settings.settings[\u0027defaultConnectionRemapping\u0027] \u003d remapping\n# infra_settings.save()"
      ],
      "outputs": []
    },
    {
      "execution_count": 0,
      "cell_type": "code",
      "metadata": {},
      "source": [
        "################################################\n################ Bundle Export #################\n################################################\n\n# Bundle id is retrieved from project variable \nproject_variables \u003d project.get_variables()\nversion_bundle \u003d project_variables[\u0027standard\u0027][\u0027version_bundle\u0027]\n\n# Bundle id is updated for future deployment\nproject_variables[\u0027standard\u0027][\u0027version_bundle\u0027] \u003d version_bundle + 1\nproject.set_variables(project_variables)\n\n# Bundle export\nproject.export_bundle(version_bundle)\n\n# Connection to deployer\ndeployer \u003d design_client.get_projectdeployer()\n\n# Upload bundle to deployer\nwith project.get_exported_bundle_archive_stream(version_bundle) as fp:\n    deployer.upload_bundle(fp.content)\n\n################################################################\n################ Deployment configuration ######################\n################################################################\n\ndeployment_id \u003d \u0027test-mlops\u0027\ninfra_id \u003d \u0027static_dev\u0027 #go to the Project Deployer and then check the Infrastructures tab\nbundle_id \u003d version_bundle\ndeployed_project_key \u003d \"MLOPS_AUTO\"\n\ntry:\n    # Check if deployment already exist. If yes only an update is needed. Bundle version to deploy needs to be updated\n    deployment \u003d deployer.get_deployment(deployment_id\u003ddeployment_id)\n    settings \u003d deployment.get_settings()\n    settings.bundle_id \u003d bundle_id\n    settings.save()\nexcept:\n    # If deployment doesn\u0027t exist, it needs to be created\n    deployment \u003d deployer.create_deployment(deployment_id\u003ddeployment_id, project_key\u003dproj_key, infra_id\u003dinfra_id, bundle_id\u003dversion_bundle, deployed_project_key\u003ddeployed_project_key)\n\n##########################################################\n################ Scenarios activation ####################\n##########################################################\n\n# All scenarios are activated (not always wanted)\nscenarios \u003d project.list_scenarios()\nscenarios_to_activate \u003d {scenario[\u0027name\u0027]:True for scenario in scenarios}\n\ndeployment_settings \u003d deployment.get_settings()\ndeployment_settings.settings[\u0027scenariosToActivate\u0027] \u003d scenarios_to_activate\ndeployment_settings.save()\n\n################################################\n################ Deployment #################### \n################################################\n\n# Bundle is pushed from design to automation\n# future shows warning/error messages\nfuture \u003d deployment.start_update().wait_for_result()\nfuture"
      ],
      "outputs": []
    }
  ]
}